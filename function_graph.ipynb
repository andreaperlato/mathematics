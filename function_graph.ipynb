{
 "cells": [
  {
   "cell_type": "markdown",
   "metadata": {},
   "source": [
    "## Function Definition and Function Graph\n",
    "A **function** is a mathematical concept that describes a relationship between two sets of numbers, typically called the input (or independent variable) and the output (or dependent variable). In simpler terms, it assigns exactly one output value to each input value. The input values are usually represented by the variable x, while the output values are represented by the variable y.\n",
    "\n",
    "The **graph of a function** is a visual representation of the relationship between the input and output values. It is created by plotting points on a coordinate plane, where the input values are plotted along the horizontal axis (x-axis) and the corresponding output values are plotted along the vertical axis (y-axis). Each point on the graph represents a specific input-output pair, and the collection of all these points forms the graph of the function. The shape and behavior of the graph provide valuable information about the function, such as its domain, range, and key characteristics like increasing or decreasing behavior, maximum and minimum points, and any asymptotes or discontinuities."
   ]
  },
  {
   "cell_type": "markdown",
   "metadata": {},
   "source": [
    "## The domain of a funtion\n",
    "The domain of a function is the set of all possible input values (often called the independent variable or x-values) for which the function is defined. \n",
    "In other words, it is the complete set of values that you can plug into the function without causing any mathematical issues, such as division by zero, taking the square root of a negative number (in the real number system), or taking the logarithm of a non-positive number.\n",
    "For example, we solve the domain of the following function: $f(x) = \\sqrt[3]{\\ln(x)}$"
   ]
  },
  {
   "cell_type": "code",
   "execution_count": 11,
   "metadata": {},
   "outputs": [
    {
     "name": "stdout",
     "output_type": "stream",
     "text": [
      "f(2) = 0.8849970445005177\n"
     ]
    }
   ],
   "source": [
    "# This code defines the function and includes a check to ensure that the input x is greater than 0. \n",
    "# If the input is not greater than 0, it raises a ValueError.\n",
    "\n",
    "import math\n",
    "\n",
    "def f(x):\n",
    "    if x <= 0:\n",
    "        raise ValueError(\"The input must be greater than 0.\")\n",
    "    return math.pow(math.log(x), 1/3)\n",
    "\n",
    "# Example usage:\n",
    "try:\n",
    "    result = f(2)  # Replace 2 with any positive number to test\n",
    "    print(\"f(2) =\", result)\n",
    "except ValueError as e:\n",
    "    print(e)"
   ]
  },
  {
   "cell_type": "markdown",
   "metadata": {},
   "source": [
    "## Step by step solution\n",
    "To determine the domain of the function, we need to analyze the behaviour of the natural logarithm function ln(x) under the cube root.\n",
    "1 - The natural logarithm ln(x) is defined only for x>0.\n",
    "2 - The cube root function is defined for all real numbers y. It can handle negative, zero, and positive values without any issues.\n",
    "3 - Since ln(x) needs x to be greater than 0 for it to be defined, and the cube root can handle any real value, the domain of f(x) will be determined solely by the domain of ln(x).\n",
    "4 - Therefore, ln(x) is defined for x>0, and so the function $f(x) = \\sqrt[3]{\\ln(x)}$ is defined for x>0.\n",
    "The aswer is that the domani of the funtion $f(x) = \\sqrt[3]{\\ln(x)}$ is (0,+∞)."
   ]
  },
  {
   "cell_type": "markdown",
   "metadata": {},
   "source": []
  }
 ],
 "metadata": {
  "kernelspec": {
   "display_name": "Python 3",
   "language": "python",
   "name": "python3"
  },
  "language_info": {
   "codemirror_mode": {
    "name": "ipython",
    "version": 3
   },
   "file_extension": ".py",
   "mimetype": "text/x-python",
   "name": "python",
   "nbconvert_exporter": "python",
   "pygments_lexer": "ipython3",
   "version": "3.12.3"
  }
 },
 "nbformat": 4,
 "nbformat_minor": 2
}
